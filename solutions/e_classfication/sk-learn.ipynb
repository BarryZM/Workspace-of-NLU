{
 "nbformat": 4,
 "nbformat_minor": 2,
 "metadata": {
  "language_info": {
   "name": "python",
   "codemirror_mode": {
    "name": "ipython",
    "version": 3
   }
  },
  "orig_nbformat": 2,
  "file_extension": ".py",
  "mimetype": "text/x-python",
  "name": "python",
  "npconvert_exporter": "python",
  "pygments_lexer": "ipython3",
  "version": 3
 },
 "cells": [
  {
   "cell_type": "code",
   "execution_count": null,
   "metadata": {},
   "outputs": [],
   "source": [
    "# # 构建特征 BOW\n",
    "# from sklearn.feature_extraction.text import CountVectorizer\n",
    "# count_vect = CountVectorizer()\n",
    "# X_train_counts = count_vect.fit_transform(twenty_train.data)\n",
    "# print(X_train_counts.shape)\n",
    "# # 构建特征 TF-IDF\n",
    "# from sklearn.feature_extraction.text import TfidfTransformer\n",
    "# tf_transformer = TfidfTransformer().fit(X_train_counts)\n",
    "# X_train_tf = tf_transformer.transform(X_train_counts)\n",
    "# print(X_train_tf.shape)\n",
    "# # 构建朴素贝叶斯分类器\n",
    "# from sklearn.naive_bayes import MultinomialNB\n",
    "# clf = MultinomialNB().fit(X_train_tf, twenty_train.target)\n",
    "# predicted = clf.predict(tf_transformer.transform(count_vect.transform(twenty_test.data)))\n",
    "# # 完整数据测试集上的结果\n",
    "# from sklearn import metrics\n",
    "# print(metrics.classification_report(twenty_test.target, predicted,\n",
    "#     target_names=twenty_test.target_names))"
   ]
  }
 ]
}