{
 "cells": [
  {
   "cell_type": "code",
   "execution_count": 2,
   "metadata": {},
   "outputs": [
    {
     "name": "stdout",
     "output_type": "stream",
     "text": "(['中国', '南海'], ['ns', 'ns'])\n(['中南海'], ['ns'])\n中国:(['人脸', '图片', '通过观察', '几何图形', '图象', '放大镜', '面孔', '貌似', '奇特', '十分相似'], [1.0, 0.5972837, 0.56848586, 0.53183466, 0.5253439, 0.5240093, 0.52310055, 0.5006411, 0.4851142, 0.39761636])\n0.057\n"
    }
   ],
   "source": [
    "import synonyms\n",
    "\n",
    "print(synonyms.seg(\"中国南海\"))\n",
    "print(synonyms.seg(\"中南海\"))\n",
    "\n",
    "print(\"中国:{}\".format(synonyms.nearby(\"人脸\")))\n",
    "\n",
    "print(synonyms.compare(\"西北\",\"塑料\",seg=False))"
   ]
  },
  {
   "cell_type": "code",
   "execution_count": null,
   "metadata": {},
   "outputs": [],
   "source": []
  }
 ],
 "metadata": {
  "kernelspec": {
   "display_name": "Python 3",
   "language": "python",
   "name": "python3"
  },
  "language_info": {
   "codemirror_mode": {
    "name": "ipython",
    "version": 3
   },
   "file_extension": ".py",
   "mimetype": "text/x-python",
   "name": "python",
   "nbconvert_exporter": "python",
   "pygments_lexer": "ipython3",
   "version": "3.6.0-final"
  }
 },
 "nbformat": 4,
 "nbformat_minor": 2
}