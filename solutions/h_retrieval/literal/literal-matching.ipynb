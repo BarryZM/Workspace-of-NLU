{
 "nbformat": 4,
 "nbformat_minor": 2,
 "metadata": {
  "language_info": {
   "name": "python",
   "codemirror_mode": {
    "name": "ipython",
    "version": 3
   },
   "version": "3.7.4-final"
  },
  "orig_nbformat": 2,
  "file_extension": ".py",
  "mimetype": "text/x-python",
  "name": "python",
  "npconvert_exporter": "python",
  "pygments_lexer": "ipython3",
  "version": 3,
  "kernelspec": {
   "name": "python37464bitbaseconda688895a7bc4d4baeb81185c00bfb955a",
   "display_name": "Python 3.7.4 64-bit ('base': conda)"
  }
 },
 "cells": [
  {
   "cell_type": "code",
   "execution_count": null,
   "metadata": {},
   "outputs": [],
   "source": [
    "# common word\n"
   ]
  },
  {
   "cell_type": "code",
   "execution_count": null,
   "metadata": {},
   "outputs": [],
   "source": [
    "# edit distance"
   ]
  },
  {
   "cell_type": "code",
   "execution_count": null,
   "metadata": {},
   "outputs": [],
   "source": [
    "# simhash hamming"
   ]
  },
  {
   "cell_type": "code",
   "execution_count": null,
   "metadata": {},
   "outputs": [],
   "source": [
    "# jaccard"
   ]
  },
  {
   "cell_type": "code",
   "execution_count": null,
   "metadata": {},
   "outputs": [],
   "source": [
    "# euclid"
   ]
  },
  {
   "cell_type": "code",
   "execution_count": null,
   "metadata": {},
   "outputs": [],
   "source": [
    "# manhattan"
   ]
  },
  {
   "cell_type": "code",
   "execution_count": 1,
   "metadata": {},
   "outputs": [
    {
     "output_type": "error",
     "ename": "SyntaxError",
     "evalue": "invalid character in identifier (<ipython-input-1-5163776a5e08>, line 3)",
     "traceback": [
      "\u001b[0;36m  File \u001b[0;32m\"<ipython-input-1-5163776a5e08>\"\u001b[0;36m, line \u001b[0;32m3\u001b[0m\n\u001b[0;31m    + 数据清理、语音识别、语音纠错、搜索\u001b[0m\n\u001b[0m                      ^\u001b[0m\n\u001b[0;31mSyntaxError\u001b[0m\u001b[0;31m:\u001b[0m invalid character in identifier\n"
     ]
    }
   ],
   "source": [
    "### 拼音\n",
    "##### 字符串相似性\n",
    "+ 数据清理、语音识别、语音纠错、搜索\n",
    "+ 汉字特征\n",
    "  + 声母\n",
    "  + 韵母\n",
    "  + 声调\n",
    "  + 偏旁\n",
    "  + 结构\n",
    "  + 笔画\n",
    "+ 23 声母\n",
    "  + | 声母 | 编号 | 声母 | 编号 | 声母 | 编号 | 声母 | 编号 |\n",
    "    | ---- | ---- | ---- | ---- | ---- | ---- | ---- | ---- |\n",
    "    | b    | 1    | p    | 2    | m    | 3    | f    | 4    |\n",
    "    | d    | 5    | t    | 6    | n    | 7    | l    | 7    |\n",
    "    | g    | 8    | k    | 9    | h    | 4    | j    | B    |\n",
    "    | q    | C    | x    | D    | zh   | E    | ch   | F    |\n",
    "    | sh   | G    | r    | H    | z    | E    | c    | F    |\n",
    "    | s    | G    | y    | I    | w    | J    |      |      |\n",
    "+ 韵母\n",
    "  + | 韵母 | 编号 | 韵母 | 编号 | 韵母 | 编号 | 韵母 | 编号 |\n",
    "    | ---- | ---- | ---- | ---- | ---- | ---- | ---- | ---- |\n",
    "    | a    | 1    | o    | 2    | e    | 3    | i    | 4    |\n",
    "    | u    | 5    | v    | 6    | ai   | 7    | ei   | 7    |\n",
    "    | ui   | 8    | ao   | 9    | ou   | A    | iu   | B    |\n",
    "    | ie   | C    | ue   | D    | er   | E    | an   | F    |\n",
    "    | en   | G    | in   | H    | un   | I    | ven  | J    |\n",
    "    | ang  | F    | eng  | G    | ing  | H    | ong  | K    |\n",
    "    | ian  | L    | uan  | M    | iang | N    | uang | O    |\n",
    "    | iong | P    | iao  | Q    |      |      |      |      |\n",
    "\n",
    "+ 识别结果变为：声母-韵母-声母-韵母\n",
    "+ “大娘水饺” \"大亮睡觉\" 的编码情况相同\n",
    "\n",
    "##### 模糊匹配\n",
    "+ 拼音编码 + Edit Distance\n",
    "\n",
    "##### 简拼\n",
    "+ 声母编码加 Edit Distance\n",
    "+ 在输入法上面会有简拼的用法，相信大家很习惯了‘wzry’就会匹配到‘王者荣耀’这样的输入方式。\n",
    "+ 这个用法会给我一个启发，在模糊匹配的时候，有时候不需要用到韵母，有时候也不需要用到声母，特别是在长语句当中，简拼这种方式尤其受人喜欢。\n",
    "+ 可以将上面例子中的原语句只将声母编码出来“57GBAF3”，“大娘水饺”关键词的声母是“57GB”\n",
    "+ 这个时候如果嫌精度不够高的话，可以把韵母加在后面，原语句为“57GBAF31N8Q941”，关键词为“57GB1N8Q”，这样精度就高了点\n",
    "+ 而且可以当作hash来使用，查找的时候复杂度为O(1)\n",
    "\n",
    "##### 大量数据\n",
    "+ 甚至如果在有大量统计数据的情况下，将每个声母或者韵母的编号用出现的概率来表示的话，还可以定量地计算出两个字符串之间的相似度，但是遗憾没有这么大量的数据"
   ]
  },
  {
   "cell_type": "code",
   "execution_count": null,
   "metadata": {},
   "outputs": [],
   "source": [
    "# lcs"
   ]
  }
 ]
}