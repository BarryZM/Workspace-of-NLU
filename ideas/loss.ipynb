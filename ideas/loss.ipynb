{
 "cells": [
  {
   "cell_type": "code",
   "execution_count": null,
   "metadata": {
    "collapsed": true
   },
   "outputs": [],
   "source": [
    "tf.nn.weighted_cross_entropy_with_logits(labels,logits, pos_weight, name=None)\n",
    "\n",
    "# cross entropy\n",
    "# https://www.jianshu.com/p/75f7e60dae95\n",
    "\n",
    "# focal loss\n",
    "# https://zhuanlan.zhihu.com/p/32423092\n",
    "\n",
    "# tf 不同交叉熵函数对比和总结\n",
    "# https://zhuanlan.zhihu.com/p/39374523\n",
    "\n",
    "# 情感分类loss\n",
    "# https://kexue.fm/archives/4293\n",
    "# IMDB Demo\n",
    "\n",
    "# triplet loss\n",
    "\n",
    "# hinge loss"
   ]
  }
 ],
 "metadata": {
  "kernelspec": {
   "display_name": "Python 2",
   "language": "python",
   "name": "python2"
  },
  "language_info": {
   "codemirror_mode": {
    "name": "ipython",
    "version": 2
   },
   "file_extension": ".py",
   "mimetype": "text/x-python",
   "name": "python",
   "nbconvert_exporter": "python",
   "pygments_lexer": "ipython2",
   "version": "2.7.6"
  }
 },
 "nbformat": 4,
 "nbformat_minor": 0
}
