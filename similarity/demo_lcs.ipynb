{
 "cells": [
  {
   "cell_type": "code",
   "execution_count": 2,
   "metadata": {},
   "outputs": [
    {
     "name": "stdout",
     "output_type": "stream",
     "text": [
      "[0, 0, 0, 0, 0, 0, 0]\n",
      "[0, 0, 0, 0, 1, 1, 1]\n",
      "[0, 1, 1, 1, 1, 2, 2]\n",
      "[0, 1, 1, 2, 2, 2, 2]\n",
      "[0, 1, 1, 2, 2, 3, 3]\n",
      "[0, 1, 2, 2, 2, 3, 3]\n",
      "[0, 1, 2, 2, 3, 3, 4]\n",
      "[0, 1, 2, 2, 3, 4, 4]\n",
      "\n",
      "[0, 0, 0, 0, 0, 0, 0]\n",
      "[0, 'up', 'up', 'up', 'ok', 'left', 'ok']\n",
      "[0, 'ok', 'left', 'left', 'up', 'ok', 'left']\n",
      "[0, 'up', 'up', 'ok', 'left', 'up', 'up']\n",
      "[0, 'ok', 'up', 'up', 'up', 'ok', 'left']\n",
      "[0, 'up', 'ok', 'up', 'up', 'up', 'up']\n",
      "[0, 'up', 'up', 'up', 'ok', 'up', 'ok']\n",
      "[0, 'ok', 'up', 'up', 'up', 'ok', 'up']\n",
      "\n",
      "BCBA\n"
     ]
    }
   ],
   "source": [
    "def lcs(a,b):\n",
    "\tlena=len(a)\n",
    "\tlenb=len(b)\n",
    "\tc=[[0 for i in range(lenb+1)] for j in range(lena+1)]\n",
    "\tflag=[[0 for i in range(lenb+1)] for j in range(lena+1)]\n",
    "\tfor i in range(lena):\n",
    "\t\tfor j in range(lenb):\n",
    "\t\t\tif a[i]==b[j]:\n",
    "\t\t\t\tc[i+1][j+1]=c[i][j]+1\n",
    "\t\t\t\tflag[i+1][j+1]='ok'\n",
    "\t\t\telif c[i+1][j]>c[i][j+1]:\n",
    "\t\t\t\tc[i+1][j+1]=c[i+1][j]\n",
    "\t\t\t\tflag[i+1][j+1]='left'\n",
    "\t\t\telse:\n",
    "\t\t\t\tc[i+1][j+1]=c[i][j+1]\n",
    "\t\t\t\tflag[i+1][j+1]='up'\n",
    "\treturn c,flag\n",
    " \n",
    "def printLcs(flag,a,i,j):\n",
    "\tif i==0 or j==0:\n",
    "\t\treturn\n",
    "\tif flag[i][j]=='ok':\n",
    "\t\tprintLcs(flag,a,i-1,j-1)\n",
    "\t\tprint(a[i-1],end='')\n",
    "\telif flag[i][j]=='left':\n",
    "\t\tprintLcs(flag,a,i,j-1)\n",
    "\telse:\n",
    "\t\tprintLcs(flag,a,i-1,j)\n",
    "\t\t\n",
    "a='ABCBDAB'\n",
    "b='BDCABA'\n",
    "c,flag=lcs(a,b)\n",
    "for i in c:\n",
    "\tprint(i)\n",
    "print('')\n",
    "for j in flag:\n",
    "\tprint(j)\n",
    "print('')\n",
    "printLcs(flag,a,len(a),len(b))\n",
    "print('')"
   ]
  },
  {
   "cell_type": "code",
   "execution_count": null,
   "metadata": {},
   "outputs": [],
   "source": []
  }
 ],
 "metadata": {
  "kernelspec": {
   "display_name": "Python 3",
   "language": "python",
   "name": "python3"
  },
  "language_info": {
   "codemirror_mode": {
    "name": "ipython",
    "version": 3
   },
   "file_extension": ".py",
   "mimetype": "text/x-python",
   "name": "python",
   "nbconvert_exporter": "python",
   "pygments_lexer": "ipython3",
   "version": "3.6.3"
  }
 },
 "nbformat": 4,
 "nbformat_minor": 2
}
