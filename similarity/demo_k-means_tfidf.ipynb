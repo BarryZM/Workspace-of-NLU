{
 "cells": [
  {
   "cell_type": "code",
   "execution_count": 1,
   "metadata": {},
   "outputs": [],
   "source": [
    "# https://www.ioiogoo.cn/2018/05/31/%e4%bd%bf%e7%94%a8k-means%e5%8f%8atf-idf%e7%ae%97%e6%b3%95%e5%af%b9%e4%b8%ad%e6%96%87%e6%96%87%e6%9c%ac%e8%81%9a%e7%b1%bb%e5%b9%b6%e5%8f%af%e8%a7%86%e5%8c%96/"
   ]
  },
  {
   "cell_type": "code",
   "execution_count": 2,
   "metadata": {},
   "outputs": [],
   "source": [
    "# -*- coding: utf-8 -*-\n",
    "# file: data_utils.py\n",
    "# author: apollo2mars <apollo2mars@gmail.com>\n",
    "\n",
    "import os\n",
    "import pickle\n",
    "import numpy as np\n",
    "\n",
    "\n",
    "class Tokenizer(object):\n",
    "\t\"\"\" Tokenizer for Machine Reading Comprehension\n",
    "\n",
    "\t1. Input : max length of context\n",
    "\t2. Get vocabulary dict : self.word2idx and self.idx2word\n",
    "\t3. Get Embedding Matrix\n",
    "\t\tif embedding matrix exits, load from exit file\n",
    "\t\telse build new embedding matrix\n",
    "\t\"\"\"\n",
    "\n",
    "\tdef __init__(self, origin_text, max_seq_len, emb_dim, lower, emb_type, dat_fname, fname):\n",
    "\t\tself.origin_text = origin_text\n",
    "\t\tself.max_seq_len = max_seq_len\n",
    "\t\tself.emb_dim = emb_dim\n",
    "\t\tself.lower = lower\n",
    "\t\tself.emb_type = emb_type\n",
    "\t\tself.path_1 = dat_fname\n",
    "\t\tself.path_2 = fname\n",
    "\n",
    "\t\tself.word2idx = {}\n",
    "\t\tself.idx2word = {}\n",
    "\t\tself.vocab_embed = []\n",
    "\n",
    "\t\tself.embedding_info = Tokenizer.__embedding_info()\n",
    "\t\tself.__load_embedding(word2idx=self.word2idx, emb_dim=self.emb_dim, dat_fname=self.path_1, fname=self.path_2)\n",
    "\t\tself.__set_vocabulary(self.origin_text)\n",
    "\t\tself.__encode_vocab()\n",
    "\n",
    "\t@staticmethod\n",
    "\tdef __embedding_info():\n",
    "\t\tembedding_files = {\n",
    "\t\t\t'Static':{\n",
    "\t\t\t\t\"Word2Vec\":\"\",\n",
    "\t\t\t\t\"Glove\":\"\",\n",
    "\t\t\t\t\"Tencent\":\"\"},\n",
    "\t\t\t'Dynamic':{\n",
    "\t\t\t\t\"BERT\":\"\",\n",
    "\t\t\t\t\"ELMo\":\"\",\n",
    "\t\t\t\t\"ERINE\":\"\",\n",
    "\t\t\t\t\"GPT-2-Chinese\":\"\",\n",
    "\t\t\t\t\"BERT-WWW\":\"\"}\n",
    "\t\t}\n",
    "\n",
    "\t\treturn embedding_files\n",
    "\n",
    "\tdef __load_embedding(self, word2idx, emb_dim, dat_fname, fname):\n",
    "\t\tif os.path.exists(dat_fname):\n",
    "\t\t\tembedding_matrix = pickle.load(open(dat_fname, 'rb'))\n",
    "\t\telse:\n",
    "\t\t\tembedding_matrix = np.zeros((len(word2idx) + 2, emb_dim))  # idx 0 and len(word2idx)+1 are all-zeros\n",
    "\t\t\tword_vec = Tokenizer.__get_vocabulary_embedding_vector_list(fname, word2idx=word2idx)\n",
    "\t\t\tfor word, i in word2idx.items():\n",
    "\t\t\t\tembedding_matrix[i] = word_vec[word]\n",
    "\t\t\tpickle.dump(embedding_matrix, open(dat_fname, 'wb'))\n",
    "\n",
    "\t\tself.embedding_matrix = embedding_matrix\n",
    "\n",
    "\tdef __set_vocabulary(self, input_text):\n",
    "\t\t\"\"\"\n",
    "\t\t:param text: text for generate vocabulary\n",
    "\t\t:return: null\n",
    "\t\t\"\"\"\n",
    "\t\tif self.lower:\n",
    "\t\t\ttmp_text = input_text.lower()\n",
    "\n",
    "\t\tfrom collections import Counter\n",
    "\t\tcount = Counter(tmp_text)\n",
    "\n",
    "\t\tfor idx, item in enumerate(count):\n",
    "\t\t\tself.word2idx[item] = idx + 1  # must + 1\n",
    "\t\t\tself.idx2word[idx + 1] = item\n",
    "\n",
    "\tdef __encode_vocab(self, input_path, word2idx=None):\n",
    "\t\t\"\"\"\n",
    "\t\t:param input_path: staic embedding file, for example(\"Glove.6b.300d\")\n",
    "\t\t\t\t, [0.2,0.6,..,0.2]\n",
    "\t\t\t\tApple [0.3,0.3,..,0.7]\n",
    "\t\t\t\tBob [0.3,0.4,..,0.7]\n",
    "\t\t\t\tCar [0.5,0.4,..,0.7]\n",
    "\t\t\t\tDo [0.8,0.4,..,0.7]\n",
    "\t\t\t\tEat [0.9,0.4,..,0.7]\n",
    "\t\t\t\t...\n",
    "\t\t\t\tZip [0.3,0.6,..,0.7]\n",
    "\t\t:param word2idx: vocabulary for current task  [list]\n",
    "\t\t\t\tinput file : Bob Eat Apple\n",
    "\t\t\t\t[Apple, Eat, Apple]\n",
    "\t\t:return: embedding vector list for vocabury\n",
    "\t\t\t\t[[0.3,0.4,..,0.7]\n",
    "\t\t\t\t[0.9,0.4,..,0.7]\n",
    "\t\t\t\t[0.3,0.3,..,0.7]]\n",
    "\n",
    "\t\tget embeddding vector list from embedding matrix by vovabulary\n",
    "\n",
    "\t\t\"\"\"\n",
    "\t\tfin = open(input_path, 'r', encoding='utf-8', newline='\\n', errors='ignore')\n",
    "\t\tword_vec = {}\n",
    "\t\tfor line in fin:\n",
    "\t\t\ttokens = line.rstrip().split(' ')\n",
    "\t\t\tif word2idx is None or tokens[0] in word2idx.keys():\n",
    "\t\t\t\tword_vec[tokens[0]] = np.asarray(tokens[1:], dtype='float32')\n",
    "\n",
    "\t\tself.vocab_embed = word_vec\n",
    "\n",
    "\t@classmethod\n",
    "\tdef __pad_and_truncate(cls, sequence, maxlen, dtype='int64', padding='post', truncating='post', value=0):\n",
    "\t\tx = (np.ones(maxlen) * value).astype(dtype)\n",
    "\n",
    "\t\tif truncating == 'pre':\n",
    "\t\t\ttrunc = sequence[-maxlen:]\n",
    "\t\telse:\n",
    "\t\t\ttrunc = sequence[:maxlen]\n",
    "\t\t\ttrunc = np.asarray(trunc, dtype=dtype)\n",
    "\t\tif padding == 'post':\n",
    "\t\t\tx[:len(trunc)] = trunc\n",
    "\t\telse:\n",
    "\t\t\tx[-len(trunc):] = trunc\n",
    "\t\treturn x\n",
    "\n",
    "\tdef encode(self, text, reverse=False, padding='post', truncating='post'):\n",
    "\t\t\"\"\"\n",
    "\t\tconvert text to numberical gigital features with max length, paddding\n",
    "\t\tand truncating\n",
    "\t\t\"\"\"\n",
    "\t\tif self.lower:\n",
    "\t\t\ttext = text.lower()\n",
    "\t\twords = list(text)\n",
    "\t\tunknown_idx = len(self.word2idx)+1\n",
    "\t\tsequence = [self.word2idx[w] if w in self.word2idx else unknown_idx for w in words]\n",
    "\t\tif len(sequence) == 0:\n",
    "\t\t\tsequence = [0]\n",
    "\t\tif reverse:\n",
    "\t\t\tsequence = sequence[::-1]\n",
    "\n",
    "\t\treturn Tokenizer.__pad_and_truncate(sequence, self.max_seq_len, padding=padding, truncating=truncating)\n"
   ]
  },
  {
   "cell_type": "code",
   "execution_count": 3,
   "metadata": {},
   "outputs": [],
   "source": [
    "from sklearn.feature_extraction.text import CountVectorizer, TfidfTransformer\n",
    "from sklearn.manifold import TSNE\n",
    "from sklearn.cluster import KMeans\n",
    "# from data_utils import *\n",
    "import jieba\n",
    "import matplotlib.pyplot as plt"
   ]
  },
  {
   "cell_type": "code",
   "execution_count": 4,
   "metadata": {},
   "outputs": [
    {
     "name": "stderr",
     "output_type": "stream",
     "text": [
      "Building prefix dict from the default dictionary ...\n",
      "Loading model from cache /var/folders/ph/31crq1pj14n9pcl2xffj45j8t0c5l2/T/jieba.cache\n",
      "Loading model cost 0.792 seconds.\n",
      "Prefix dict has been built succesfully.\n"
     ]
    }
   ],
   "source": [
    "# bigram分词\n",
    "# segment_bigram = lambda text: \" \".join([word + text[idx + 1] for idx, word in enumerate(text) if idx &lt; len(text) - 1])\n",
    "# 结巴中文分词\n",
    "segment_jieba = lambda text: \" \".join(jieba.cut(text))\n",
    " \n",
    "'''\n",
    "加载语料\n",
    "'''\n",
    "corpus = []\n",
    "with open(\"demo_1.txt\", \"r\", encoding=\"utf-8\") as f:\n",
    "    for line in f:\n",
    "        line = line.strip()\n",
    "        # print(\">>>\", line)\n",
    "        tmp = segment_jieba(line)\n",
    "        # print(tmp)\n",
    "        corpus.append(tmp)\n",
    " "
   ]
  },
  {
   "cell_type": "code",
   "execution_count": 5,
   "metadata": {},
   "outputs": [],
   "source": [
    "# corpus = [\n",
    "# ...     'This is the first document.',\n",
    "# ...     'This is the second second document.',\n",
    "# ...     'And the third one.',\n",
    "# ...     'Is this the first document?',\n",
    "# ... ]\n",
    "# vectorizer = CountVectorizer()\n",
    "# transformer = TfidfTransformer()\n",
    "# X = vectorizer.fit_transform(corpus)\n",
    "\n",
    "# print(vectorizer.get_feature_names())\n",
    "# print(X)\n",
    "# print(transformer.fit_transform(X))"
   ]
  },
  {
   "cell_type": "code",
   "execution_count": 6,
   "metadata": {},
   "outputs": [],
   "source": [
    "'''\n",
    "计算tf-idf设为权重\n",
    "'''\n",
    "vectorizer = CountVectorizer()\n",
    "transformer = TfidfTransformer()\n",
    "tfidf = transformer.fit_transform(vectorizer.fit_transform(corpus))\n",
    "# print(tfidf[:50])"
   ]
  },
  {
   "cell_type": "code",
   "execution_count": 7,
   "metadata": {},
   "outputs": [
    {
     "name": "stdout",
     "output_type": "stream",
     "text": [
      "word feature length: 438\n",
      "word feature : ['100', '1000', '20ml', '800', '818', '90', '98', '99', 'bu', 'convenient', 'delivery', 'efficiency', 'friction', 'good', 'hellip', 'hhhhhhhhhhhhhhhhhhhhhhhh', 'on', 'time', '一个', '一个多月', '一分', '一千多块', '一次', '一百', '一百多块', '一遍', '七系', '丈人', '下巴', '不了', '不划算', '不太', '不少', '不怎么', '不敢', '不能', '不错', '两个', '两次', '两瓶', '两百多', '中国', '买个', '买来', '买过', '二手', '二手货', '二百多', '产地', '京东']\n"
     ]
    }
   ],
   "source": [
    "''' \n",
    "获取词袋模型中的所有词语特征\n",
    "如果特征数量非常多的情况下可以按照权重降维\n",
    "'''\n",
    "word = vectorizer.get_feature_names()\n",
    "print(\"word feature length: {}\".format(len(word)))\n",
    "print(\"word feature : {}\".format(word[:50]))"
   ]
  },
  {
   "cell_type": "code",
   "execution_count": 8,
   "metadata": {},
   "outputs": [],
   "source": [
    "''' \n",
    "导出权重，到这边就实现了将文字向量化的过程，矩阵中的每一行就是一个文档的向量表示\n",
    "'''\n",
    "tfidf_weight = tfidf.toarray()"
   ]
  },
  {
   "cell_type": "code",
   "execution_count": 9,
   "metadata": {},
   "outputs": [
    {
     "data": {
      "text/plain": [
       "[<matplotlib.lines.Line2D at 0x105b093c8>]"
      ]
     },
     "execution_count": 9,
     "metadata": {},
     "output_type": "execute_result"
    },
    {
     "data": {
      "image/png": "[encoded data removed]",
      "text/plain": [
       "<Figure size 432x288 with 1 Axes>"
      ]
     },
     "metadata": {
      "needs_background": "light"
     },
     "output_type": "display_data"
    }
   ],
   "source": [
    "SSE = []  # 存放每次结果的误差平方和\n",
    "for k in range(1,50):\n",
    "    estimator = KMeans(n_clusters=k)  # 构造聚类器\n",
    "    estimator.fit(tfidf_weight)\n",
    "    SSE.append(estimator.inertia_)\n",
    "X = range(1,50)\n",
    "plt.xlabel('k')\n",
    "plt.ylabel('SSE')\n",
    "plt.plot(X,SSE,'o-')\n"
   ]
  },
  {
   "cell_type": "code",
   "execution_count": 13,
   "metadata": {},
   "outputs": [
    {
     "name": "stdout",
     "output_type": "stream",
     "text": [
      "n_clusters is  18\n",
      "673\n",
      "673\n",
      "{5: ['商品 颜色', '商品 用途', '商品质量', '运转 音', '退货 服务', '客服 态度', '商品 产地', '商品 复购', '商品 外观', '商品价格', '商品 营销', '续航', '换货 服务', '价保', '客服 其他', '清洁 方式', '尺寸', '售后 其他', '显示', '> > > > > >', '商品 颜色', '颜色', '银色', '黑色', '石 蓝色', '银白色', '> > > > > >', '商品 用途', '送人 的', '送人', '给 老公 买 的', '买来 送人 的', '送人 的 礼物', '买 给 公公 的', '父亲节 礼物', '给 老爹 买 的', '送给 我 老公 的 生日礼物', '给 公司员工 买 的', '啦 啦 啦 啦 啦 啦 啦 啦 啦 啦 啦 啦 。', '给 父亲 准备 的 父亲节 礼物', '买 给 岳父 的', '帮 同事 买 的', '买来 送 岳父', '帮 家人 买 的', '送人 的 礼品', '送人用 的', '帮别人 买 的', '送人 3 个', '给 老公 的 礼物', '给 家人 买 的', '送 男人', '金敏 公民 咯咯 哦 咯咯 , ,', '哎哟 还 不错 哦哦哦 哦哦哦 哦哦哦 哦哦哦 哦哦哦', '礼物 送人 的', '给 室友 买 的', '送给 客户 的 礼物', '送给 老丈人', '送人 好看', '给 父亲 买 的', '给 父亲 买 的 父亲节 礼物', '给 老人 买 的', '送 完 丈人 送亲 爹', '给 爸 买 的', '给 老公 生日 买 的', '买 给 我 爸用 的', '过年 小 礼物', '买 给 老丈人 的', '京豆京 豆京 豆京豆京 豆京豆京 豆京豆京 豆京豆京 豆京豆京 豆京豆京 豆京豆京 豆京豆京 豆京豆京 豆京豆京 豆京豆京 豆京豆 , , ,', '给 老人 买 了', '送给 老公', '送 老爷子 的', '买 给 自己 家人 用 的', '不错 啦 咯 啦 咯 啦 咯 啦 咯 啦 咯 啦 咯 啦 咯 啦 咯 ,', '准备 送人', '买 给 我 爸 比 的', '送给 老公 的 生日礼物', '送 家人', '送给 父亲 的 父亲节 礼物', '送 父亲 的 礼物', '买 给 老公 的 生日礼物', '作为 送给 自己 的 新年礼物', '> > > > > >', '商品质量', '质量', '做工', '正品', '手感', '品质', '质感', '假货', '二手货', '实用', '工艺', '二手 的', '大材小用', '質量', '贈品', '德国 品质', '山寨 货', '异物感', '布艺', '二手', '材质', '很 实用', '很 有 质感', '质量 很 好', '山寨', '> > > > > >', '运转 音', '声音', '噪音', '噪声', '动静', '声波', '音量', '躁音', '生音', '超声波 振', '静音', '超声', '响声', '声儿', 'Friction ,', '> > > > > >', '退货 服务', '退货', '退换货', '退 了', '退 也', '退休', '单位 同事 要 退休', '退换', '退貨', '退 不了 货', '退 给 我', '还 不能 退', '> > > > > >', '客服 态度', '客服 态度', '态度', '服务', '> > > > > >', '商品 产地', '德国', '德国 进口', '国产', '进口', '德国 产', '德国 精工', '德国 工艺', '德国 制造', '中国 制造', '制造', '尔兰 进口', '日本 进口', '江苏 产', '德国 原产', '德国人', '德国 原装 进口', '日本产', '国行', '广州', '> > > > > >', '博朗', '飞利浦', '京东', '松下', '飞科', '吉列', '大 牌子', '牌子', '菲利普', '京豆', '博郎', '这个 牌子', '京东 自营', '大牌', '超人', '飞家', '巴登 巴登', '欧洲', '吉利', '荷兰', '小米', '自营', '博朗特', '晒单 赢京豆', '布尼', '大材 小', '吉利 锋', '勃朗', '> > > > > >', '震动', '效果', '刮 的', '剃 的', '振动', '动力', '刮得', '剃得', '力度', '刮 完', '马力', '刮胡子', '刺痛感', '还 算 舒服', '剔 的', '振动 频率', '扯 得 下巴 疼', '力道', '不 伤 皮肤', '刮 的 比较', '刮伤', '很 舒服', '震動', '刮胡子 皮肤 疼', '有 疼痛感', '功率', '干 刮', '非常 舒服', '效率', '刮 胡', '磨得 皮肤 有点 疼', '剃 完 皮肤', '啊啊啊 啊啊啊', '下巴 那里 容易 过敏 发红', '挂 不 彻底', '挂 的', '挂 一遍', '用 起来 舒服', '剃 完', '震动 震 的 手麻', '伤 皮肤', '挺舒服', '刮 出血', '> > > > > >', '商品 复购', '第二次 买', '再 买 一个', '又 买 了 一个', '再次 购买', '第二次 购买', '买过 第三个', '再 买 了 一个', '有 买 一个', '给 买 了 个 7', '又 给 他 买 了 一个', '又 买 了 这个', '> > > > > >', '商品 外观', '外观', '设计', '颜值', '款式', '高大', '挺 漂亮', '> > > > > >', '商品价格', '价格', '便宜', '性价比', '物有所值', '价位', '最 贵', '优惠', '价钱', '京东 自营', '廉价', '不 便宜', '价格 优惠', '八百块', '很 划算', '货真价实', '800 块', '活动 价格', '99 元 退款', '一百多块 钱', '活动 优惠', '第二 单', '欧亚', '买 了 2 个', '物超所值', '价格 贵', '打折', '可以', '两百多', '才 八百多', '吉列 5 层', '价格便宜', '高颜值', '一百', '优惠价', '不划算', '价保', '日本', '物美 价优', 'Good', 'BU', '1000 块钱', '98 元', '100 元', '价值', '标价 90 多', '有点 贵', '降 了 100 元', '大 价钱', '800 多', '四百多 块钱', '性格', '价格 实惠', '很 实惠', '818 元', '比较 划算', '價格', '二百多', '又 买 了 个 8 系', '一分 价钱', '活动 价', '一千多块 钱', '> > > > > >', '商品 营销', '赠品', '活动', '送 的', '送 客户', '买 的', '赠送', '送礼', '送礼 用', '生日礼物 送 自己', '送个 七系', '搞 活动', '优惠活动', '公司 年会 活动', '送给 男友 的', '送给 亲爹 的', '欧仕派 运动', '今天 搞 活动', '促销', '呵呵 红红火火 恍恍惚惚', '送员', '送 老公', '> > > > > >', '续航', '干 湿两用', '开 不了 机', '现在 还有 电', '用 5 分钟', 'hhhhhhhhhhhhhhhhhhhhhhhh', '能用 很 久', '使用 很多 天', '可以 用 很 久', '电池 能 用 多久', '能用 很 久 挺不错', '第二次', '用 了 两个 多 礼拜', '这 两瓶 & hellip ; & hellip ; 加 起来 有 20ML 吗', '续航', '用 了 2 个 月', '最 多 可以 用 一个多月', 'Efficiency ,   convenient ,   on   time   delivery .', '用 六十 分钟', '啦 啦 啦 啦 啦 啦 啦 啦 啦 啦 啦 啦 啦 啦 考虑 考虑', '来回 两次', '> > > > > >', '充满 电', '充不上 电', '充个 电', '充好 电', '充完 电', '冲电', '换电', '国内 不 保修 不 保修', '充了 一个 小时 电', '冲一 小时', '充不进', '没电充 了 几分钟 就 充满 了', '> > > > > >', '电池', '说明书', '盖子', '清洁 盒', '清洁液', '充电器', '刀网', '清洁', '马达', '修剪 器', '说明', '刀 头盖', '保护 罩', '全 机', '电源', '盖头', '鬓角 修剪', '清洗器', '液晶', '吉列 手动', '刷子', '屏幕', '轻 机油', '雷明登', '鬓角 的', '刀面 保护 盖', '刀 头罩', '紫薯 布丁 紫薯 布丁 紫薯 布丁 ,', '补给 清洁液', '脸蛋 子', '保修卡', '护壳', '清洁 台', '> > > > > >', '换货 服务', '更换', '换 了 一', '换 了 个', '换', '换货', '换 着 用', '给 我 换', '换 不 给 换', '换药 水', '> > > > > >', '往复式', '旋转式', '旋转 型', '旋转', '保湿 控', '自动 清', '往复', '拉齿 缝隙 偏 大', '淡淡的', '> > > > > >', '外包装', '旅行 盒', '包装盒', '打折', '原装 进口', '包装纸', '塑料袋', '包裝', '纸盒子', '安装', '盒 套子', '礼品盒', '旅行装', '礼盒 大方', '日本 原装 进口', '> > > > > >', '使用', '试用', '说明书', '发票', '很 耐用', '润滑油', '塑料', '味道', '鬓角 使用', '清洁液 酒精 味', '给 男票', '功能', '水漾 美肌 无瑕 粉底液', '操作', '香味', '面皮', '清洁 功能', '保养', '保质', '怪 味道', '和 先生', '干湿', '柠檬 味', '> > > > > >', '刀片', '锋利', '不 锋利', '锋利 无比', '> > > > > >', '价保', '降价', '保价', '价保', '掉价', '降 了 100', '又 降 100', '价格 保护', '> > > > > >', '快递', '到货', '送货', '发货', '收到', '送货上门', '附送', '快递 盒', '轻飘飘', '> > > > > >', '客服 其他', '客服', '> > > > > >', '清洁 方式', '全身 水洗', '水洗', '清洗液', '自动 清洗 功能', '干湿 双 剃   全身 水洗', '不敢 水洗', '自带 清洁', '清洗 功能', '全身 水洗 往复式', '> > > > > >', '快递 员', '生日 禮物 送給 先生', '快递 小哥', '> > > > > >', '送货 速度', '8 个 小时 内 送达', '速度', '发货 速度', '> > > > > >', '尺寸', '体积', '很 小巧', '小巧', '大男大女 大男大女 大男大女', '可乐', '> > > > > >', '售后 其他', '售后', '> > > > > >', '显示', '显示', '显示屏', '指示灯', '显示 清洁度', '电量 显示'], 4: ['商品 品牌', '商品 品牌', '品牌', '大 品牌', '第一 品牌', '大 品牌 大 品质', '荷兰 品牌', '这个 品牌'], 14: ['剃须 效果', '剃须 方式', '剃须 效果', '剃须 效果', '剃须', '剃须 效率', '剃须 效果 极佳', '剃须 头', '剃须 比较 干净', '剃须 方式'], 11: ['充电', '充电', '充电', '充电 清洗', '充电 时间 有点 长'], 6: ['配件', '送 的 配件', '配件', '配件'], 8: ['包装', '包装', '包装'], 16: ['商品 其他', '物流 其他', '物流 态度', '商品 其他', '物流 其他', '物流', '物流 态度', '物流 速度'], 17: ['刀头 刀片', '刀头 刀片', '刀头', '旋转 三 刀头', '三 刀头', '3 刀头'], 7: ['配送 速度', '配送', '配送 员', '配送 速度'], 15: ['帮 朋友 买 的', '送 朋友 了', '送 朋友 的', '帮 朋友 订 的', '送给 朋友 的 礼物', '买来 送 朋友 的', '送给 朋友', '送给 朋友 的', '给 朋友 买 的', '买 给 朋友', '送 朋友', '送 朋友 的'], 0: ['给 老爸 买 的', '给 老爸 买', '送给 老爸 的 父亲节 礼物', '给 老爸 买 的 新年礼物', '给 老爸 的 新年礼物', '给 老爸 也 买 一个', '买 给 老爸 的 礼物', '买来 送 老爸 的 生日礼物', '买 给 老爸 和 岳父 的', '送 老爸 的', '送给 老爸', '送给 老爸 的 生日礼物', '给 老爸 买 一个', '给 老爸 买 的 礼物', '收到 货 老爸'], 3: ['送给 男朋友 的', '送 男朋友 的', '送 男朋友 的 生日礼物', '给 男朋友 的', '买来 送 男朋友', '给 男朋友 买 的', '买来 送给 男朋友', '送给 男朋友 的 生日礼物', '送 男朋友'], 2: ['买 给 爸爸 的', '送 爸爸', '给 爸爸 买 的', '给 爸爸 买', '买 给 爸爸 的 礼物', '送 爸爸 过年 的 礼物', '给 爸爸 的 新年礼物', '送给 爸爸 的 生日礼物', '送给 爸爸 的', '给 爸爸 买个 新 的', '给 爸爸', '送给 爸爸 的 礼物', '送 爸爸'], 1: ['很 干净', '挺 干净', '手动 干净', '效果 很 好 很 干净', '剃得 干净', '不太 干净', '并 不怎么 干净', '剃 不 太 干净', 't 的 是否 干净', '旋转式 干净', '挂 的 干净', '干净', '超级 干净', '剃 干净', '面部 干净 了 不少', '刮胡子 没 那么 干净', '非常 干净', '比较 干净'], 9: ['加 胡子', '挂 胡子', '胡子 短', '会 夹 胡子', '夹 胡子'], 13: ['买 的 第二个', '买 第二个', '是 第二个', '第二个'], 12: ['充 一次 才 用 3 - 4 次', '充 一次 电', '充了 一次 电', '只 充过 一次 电', '充 一次 大概 能用 3 周', '换 过 一次 货', '换 了 一次'], 10: ['盒子', '旅行 盒子', '破 盒子', '盒子 99 块', '清洗 盒子', '清洗']}\n"
     ]
    }
   ],
   "source": [
    "# 聚类\n",
    "import math\n",
    "n_clusters=int(math.sqrt(len(corpus)/2))\n",
    "print(\"n_clusters is \", n_clusters)\n",
    "kmeans = KMeans(n_clusters)\n",
    "kmeans.fit(tfidf_weight)\n",
    "\n",
    "# 显示聚类结果\n",
    "# print(kmeans.cluster_centers_)\n",
    "\n",
    "result_dict = {}\n",
    "print(len(kmeans.labels_))\n",
    "print(len(corpus))\n",
    "for index, label in enumerate(kmeans.labels_, 0):\n",
    "#     print(\" ======== new item =========\")\n",
    "#     print(\"index: {}, label: {}\".format(corpus[index], label))\n",
    "    if label in result_dict.keys():\n",
    "        tmp_list = result_dict[label]\n",
    "#         print(corpus[index])\n",
    "        tmp_list.extend([corpus[index]])\n",
    "#         print(\">>> tmp_list\", tmp_list)\n",
    "        result_dict[label] = tmp_list\n",
    "    else:\n",
    "        result_dict[label] = [corpus[index]]\n",
    "\n",
    "print(result_dict)\n",
    "# print(result_dict[0])\n",
    "# print(result_dict[1])\n",
    " \n",
    "# 样本距其最近的聚类中心的平方距离之和，用来评判分类的准确度，值越小越好\n",
    "# k-means的超参数n_clusters可以通过该值来评估\n",
    "# print(\"inertia: {}\".format(kmeans.inertia_))\n",
    "\n",
    "# '''\n",
    "# 可视化\n",
    "# '''\n",
    "# # 使用T-SNE算法，对权重进行降维，准确度比PCA算法高，但是耗时长\n",
    "# tsne = TSNE(n_components=2) # 降低到2维度，方便显示\n",
    "# decomposition_data = tsne.fit_transform(tfidf_weight)\n",
    " \n",
    "# x = []\n",
    "# y = []\n",
    " \n",
    "# for i in decomposition_data:\n",
    "#     x.append(i[0])\n",
    "#     y.append(i[1])\n",
    " \n",
    "# fig = plt.figure(figsize=(10, 10))\n",
    "# ax = plt.axes()\n",
    "# plt.scatter(x, y, c=kmeans.labels_, marker=\"x\")\n",
    "# plt.xticks(())\n",
    "# plt.yticks(())\n",
    "# # plt.show()\n",
    "# plt.savefig('./sample.png', aspect=1)"
   ]
  },
  {
   "cell_type": "code",
   "execution_count": 11,
   "metadata": {},
   "outputs": [
    {
     "name": "stdout",
     "output_type": "stream",
     "text": [
      "idx is 0, value is 1\n",
      "idx is 1, value is 2\n",
      "idx is 2, value is 3\n",
      "idx is 3, value is 4\n",
      "idx is 4, value is 5\n",
      "idx is 1, value is 1\n",
      "idx is 2, value is 2\n",
      "idx is 3, value is 3\n",
      "idx is 4, value is 4\n",
      "idx is 5, value is 5\n"
     ]
    }
   ],
   "source": [
    "a = [1, 2, 3, 4, 5]\n",
    "\n",
    "for idx, value in enumerate(a):\n",
    "    print(\"idx is {}, value is {}\".format(idx, value))\n",
    "    \n",
    "for idx, value in enumerate(a, 1):\n",
    "    print(\"idx is {}, value is {}\".format(idx, value))"
   ]
  }
 ],
 "metadata": {
  "kernelspec": {
   "display_name": "Python 3",
   "language": "python",
   "name": "python3"
  },
  "language_info": {
   "codemirror_mode": {
    "name": "ipython",
    "version": 3
   },
   "file_extension": ".py",
   "mimetype": "text/x-python",
   "name": "python",
   "nbconvert_exporter": "python",
   "pygments_lexer": "ipython3",
   "version": "3.6.3"
  }
 },
 "nbformat": 4,
 "nbformat_minor": 2
}
