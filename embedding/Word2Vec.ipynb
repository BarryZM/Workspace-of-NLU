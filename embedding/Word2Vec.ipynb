{
 "cells": [
  {
   "cell_type": "code",
   "execution_count": 1,
   "metadata": {},
   "outputs": [],
   "source": [
    "# http://www.hankcs.com/nlp/word2vec.html\n",
    "# https://zhuanlan.zhihu.com/p/53425736 cbow 多个词加权后在做输出"
   ]
  },
  {
   "cell_type": "code",
   "execution_count": 1,
   "metadata": {},
   "outputs": [],
   "source": [
    "import tensorflow as tf"
   ]
  },
  {
   "cell_type": "code",
   "execution_count": 2,
   "metadata": {},
   "outputs": [],
   "source": [
    "text = \"火星（Mars）是太阳系八大行星之一，是太阳系由内往外数的第四颗行星，属于类地行星，直径约为地球的53%，质量为地球的14%。自转轴倾角、自转周期均与地球相近，公转一周约为地球公转时间的两倍。橘红色外表是地表的赤铁矿（氧化铁）。我国古书上将火星称为“荧惑星”，西方古代（古罗马）称为“神话玛尔斯星”是十二星座白羊座的独一守护星，并非天蝎座的守护行星。火星基本上是沙漠行星，地表沙丘、砾石遍布且没有稳定的液态水体（2015年9月28日，美国宇航局公布火星上有少量的水。据法新社2018年7月25日报道，欧洲航天局(ESA)的研究员称，火星上发现了第一个液态地下水湖）。二氧化碳为主的大气既稀薄又寒冷，沙尘悬浮其中，每年常有尘暴发生。火星两极皆有水冰与干冰组成的极冠会随着季节消长。与地球相比，火星地质活动较不活跃，地表地貌大部分于远古较活跃的时期形成，有密布的陨石坑、火山与峡谷，包括太阳系最高的山：奥林帕斯山和最大的峡谷：水手号峡谷。另一个地形特征是南北半球的明显差别：南方是古老、充满陨石坑的高地，北方则是较年轻的平原。火星有两个天然卫星：火卫一和火卫二，形状不规则，可能是被隔离的矮小行星。在地球，火星肉眼可见，最高亮度可达-2.9等，八大行星中比木星、金星暗。2015年9月28日，美国航天局宣布火星存在流动水\""
   ]
  },
  {
   "cell_type": "code",
   "execution_count": 3,
   "metadata": {
    "collapsed": true
   },
   "outputs": [
    {
     "name": "stderr",
     "output_type": "stream",
     "text": [
      "Building prefix dict from the default dictionary ...\n",
      "Loading model from cache /var/folders/ph/31crq1pj14n9pcl2xffj45j8t0c5l2/T/jieba.cache\n",
      "Loading model cost 0.802 seconds.\n",
      "Prefix dict has been built succesfully.\n"
     ]
    },
    {
     "name": "stdout",
     "output_type": "stream",
     "text": [
      "Default Mode: 火星/ （/ Mars/ ）/ 是/ 太阳系/ 八/ 大行星/ 之一/ ，/ 是/ 太阳系/ 由/ 内往/ 外数/ 的/ 第四颗/ 行星/ ，/ 属于/ 类地行星/ ，/ 直径约/ 为/ 地球/ 的/ 53%/ ，/ 质量/ 为/ 地球/ 的/ 14%/ 。/ 自转轴/ 倾角/ 、/ 自转/ 周期/ 均/ 与/ 地球/ 相近/ ，/ 公转/ 一周/ 约/ 为/ 地球/ 公转/ 时间/ 的/ 两倍/ 。/ 橘红色/ 外表/ 是/ 地表/ 的/ 赤铁矿/ （/ 氧化铁/ ）/ 。/ 我国/ 古书/ 上将/ 火星/ 称为/ “/ 荧惑/ 星/ ”/ ，/ 西方/ 古代/ （/ 古罗马/ ）/ 称为/ “/ 神话/ 玛尔斯/ 星/ ”/ 是/ 十二/ 星座/ 白羊座/ 的/ 独一/ 守护星/ ，/ 并非/ 天蝎座/ 的/ 守护/ 行星/ 。/ 火星/ 基本上/ 是/ 沙漠/ 行星/ ，/ 地表/ 沙丘/ 、/ 砾石/ 遍布/ 且/ 没有/ 稳定/ 的/ 液态水/ 体/ （/ 2015/ 年/ 9/ 月/ 28/ 日/ ，/ 美国宇航局/ 公布/ 火星/ 上/ 有/ 少量/ 的/ 水/ 。/ 据/ 法新社/ 2018/ 年/ 7/ 月/ 25/ 日/ 报道/ ，/ 欧洲航天局/ (/ ESA/ )/ 的/ 研究员/ 称/ ，/ 火星/ 上/ 发现/ 了/ 第一个/ 液态/ 地下水/ 湖/ ）/ 。/ 二氧化碳/ 为主/ 的/ 大气/ 既/ 稀薄/ 又/ 寒冷/ ，/ 沙尘/ 悬浮/ 其中/ ，/ 每年/ 常有/ 尘暴/ 发生/ 。/ 火星/ 两极/ 皆/ 有/ 水冰/ 与/ 干冰/ 组成/ 的/ 极冠/ 会/ 随着/ 季节/ 消长/ 。/ 与/ 地球/ 相比/ ，/ 火星/ 地质/ 活动/ 较/ 不/ 活跃/ ，/ 地表/ 地貌/ 大部分/ 于/ 远古/ 较/ 活跃/ 的/ 时期/ 形成/ ，/ 有/ 密布/ 的/ 陨石坑/ 、/ 火山/ 与/ 峡谷/ ，/ 包括/ 太阳系/ 最高/ 的/ 山/ ：/ 奥林帕斯/ 山/ 和/ 最大/ 的/ 峡谷/ ：/ 水手/ 号/ 峡谷/ 。/ 另/ 一个/ 地形/ 特征/ 是/ 南/ 北半球/ 的/ 明显/ 差别/ ：/ 南方/ 是/ 古老/ 、/ 充满/ 陨石坑/ 的/ 高地/ ，/ 北方/ 则/ 是/ 较/ 年轻/ 的/ 平原/ 。/ 火星/ 有/ 两个/ 天然/ 卫星/ ：/ 火卫一/ 和/ 火卫二/ ，/ 形状/ 不规则/ ，/ 可能/ 是/ 被/ 隔离/ 的/ 矮小/ 行星/ 。/ 在/ 地球/ ，/ 火星/ 肉眼/ 可见/ ，/ 最高/ 亮度/ 可/ 达/ -/ 2.9/ 等/ ，/ 八/ 大行星/ 中/ 比/ 木星/ 、/ 金星/ 暗/ 。/ 2015/ 年/ 9/ 月/ 28/ 日/ ，/ 美国/ 航天局/ 宣布/ 火星/ 存在/ 流动/ 水\n"
     ]
    }
   ],
   "source": [
    "import jieba\n",
    "word_list = jieba.cut(text, cut_all=False)\n",
    "print(\"Default Mode: \" + \"/ \".join(word_list))  # 精确模式"
   ]
  },
  {
   "cell_type": "code",
   "execution_count": 4,
   "metadata": {
    "collapsed": true
   },
   "outputs": [
    {
     "name": "stdout",
     "output_type": "stream",
     "text": [
      "['火', '星', '（', 'M', 'a', 'r', 's', '）', '是', '太', '阳', '系', '八', '大', '行', '星', '之', '一', '，', '是', '太', '阳', '系', '由', '内', '往', '外', '数', '的', '第', '四', '颗', '行', '星', '，', '属', '于', '类', '地', '行', '星', '，', '直', '径', '约', '为', '地', '球', '的', '5', '3', '%', '，', '质', '量', '为', '地', '球', '的', '1', '4', '%', '。', '自', '转', '轴', '倾', '角', '、', '自', '转', '周', '期', '均', '与', '地', '球', '相', '近', '，', '公', '转', '一', '周', '约', '为', '地', '球', '公', '转', '时', '间', '的', '两', '倍', '。', '橘', '红', '色', '外', '表', '是', '地', '表', '的', '赤', '铁', '矿', '（', '氧', '化', '铁', '）', '。', '我', '国', '古', '书', '上', '将', '火', '星', '称', '为', '“', '荧', '惑', '星', '”', '，', '西', '方', '古', '代', '（', '古', '罗', '马', '）', '称', '为', '“', '神', '话', '玛', '尔', '斯', '星', '”', '是', '十', '二', '星', '座', '白', '羊', '座', '的', '独', '一', '守', '护', '星', '，', '并', '非', '天', '蝎', '座', '的', '守', '护', '行', '星', '。', '火', '星', '基', '本', '上', '是', '沙', '漠', '行', '星', '，', '地', '表', '沙', '丘', '、', '砾', '石', '遍', '布', '且', '没', '有', '稳', '定', '的', '液', '态', '水', '体', '（', '2', '0', '1', '5', '年', '9', '月', '2', '8', '日', '，', '美', '国', '宇', '航', '局', '公', '布', '火', '星', '上', '有', '少', '量', '的', '水', '。', '据', '法', '新', '社', '2', '0', '1', '8', '年', '7', '月', '2', '5', '日', '报', '道', '，', '欧', '洲', '航', '天', '局', '(', 'E', 'S', 'A', ')', '的', '研', '究', '员', '称', '，', '火', '星', '上', '发', '现', '了', '第', '一', '个', '液', '态', '地', '下', '水', '湖', '）', '。', '二', '氧', '化', '碳', '为', '主', '的', '大', '气', '既', '稀', '薄', '又', '寒', '冷', '，', '沙', '尘', '悬', '浮', '其', '中', '，', '每', '年', '常', '有', '尘', '暴', '发', '生', '。', '火', '星', '两', '极', '皆', '有', '水', '冰', '与', '干', '冰', '组', '成', '的', '极', '冠', '会', '随', '着', '季', '节', '消', '长', '。', '与', '地', '球', '相', '比', '，', '火', '星', '地', '质', '活', '动', '较', '不', '活', '跃', '，', '地', '表', '地', '貌', '大', '部', '分', '于', '远', '古', '较', '活', '跃', '的', '时', '期', '形', '成', '，', '有', '密', '布', '的', '陨', '石', '坑', '、', '火', '山', '与', '峡', '谷', '，', '包', '括', '太', '阳', '系', '最', '高', '的', '山', '：', '奥', '林', '帕', '斯', '山', '和', '最', '大', '的', '峡', '谷', '：', '水', '手', '号', '峡', '谷', '。', '另', '一', '个', '地', '形', '特', '征', '是', '南', '北', '半', '球', '的', '明', '显', '差', '别', '：', '南', '方', '是', '古', '老', '、', '充', '满', '陨', '石', '坑', '的', '高', '地', '，', '北', '方', '则', '是', '较', '年', '轻', '的', '平', '原', '。', '火', '星', '有', '两', '个', '天', '然', '卫', '星', '：', '火', '卫', '一', '和', '火', '卫', '二', '，', '形', '状', '不', '规', '则', '，', '可', '能', '是', '被', '隔', '离', '的', '矮', '小', '行', '星', '。', '在', '地', '球', '，', '火', '星', '肉', '眼', '可', '见', '，', '最', '高', '亮', '度', '可', '达', '-', '2', '.', '9', '等', '，', '八', '大', '行', '星', '中', '比', '木', '星', '、', '金', '星', '暗', '。', '2', '0', '1', '5', '年', '9', '月', '2', '8', '日', '，', '美', '国', '航', '天', '局', '宣', '布', '火', '星', '存', '在', '流', '动', '水']\n"
     ]
    }
   ],
   "source": [
    "char_list = list(text)\n",
    "print(char_list)\n",
    "char_num = len(set(char_list))"
   ]
  },
  {
   "cell_type": "code",
   "execution_count": 5,
   "metadata": {
    "collapsed": true
   },
   "outputs": [
    {
     "name": "stdout",
     "output_type": "stream",
     "text": [
      "['火', '星', '（', 'M']###a###['r', 's', '）', '是']\n",
      "\n",
      "['星', '（', 'M', 'a']###r###['s', '）', '是', '太']\n",
      "\n",
      "['（', 'M', 'a', 'r']###s###['）', '是', '太', '阳']\n",
      "\n"
     ]
    }
   ],
   "source": [
    "# Dataset\n",
    "def get_window_sample(char_list, window_size):\n",
    "    left_context = []\n",
    "    right_context = []\n",
    "    target = []\n",
    "    for idx, item in enumerate(char_list):\n",
    "        if idx+window_size+1 < len(char_list):\n",
    "            left_context.append(char_list[idx:idx+window_size])\n",
    "            right_context.append(char_list[idx+window_size+1:idx+2*window_size+1])\n",
    "            target.append(char_list[idx+window_size])\n",
    "    return left_context, right_context, target\n",
    "\n",
    "left_context, right_context, target = get_window_sample(char_list, 4)\n",
    "\n",
    "for item_left, item_right, item in zip(left_context[:3], right_context[:3], target[:3]):\n",
    "    print(str(item_left) + \"###\" + str(item) + \"###\" + str(item_right) + '\\n')"
   ]
  },
  {
   "cell_type": "code",
   "execution_count": 6,
   "metadata": {
    "collapsed": true
   },
   "outputs": [
    {
     "name": "stdout",
     "output_type": "stream",
     "text": [
      "[170 138 256  16  18  19  20 257 139  87 248 203  49  85 220 138  37  25\n",
      " 258 139  87 248 203 179  52 117  84 130 181 200  77 253 220 138 258 103\n",
      "  41 202  80 220 138 258 183 119 205  35  80 177 181  10   8   0 258 230\n",
      " 243  35  80 177 181   6   9   0  24 213 233 234  47 226  23 213 233  75\n",
      " 146  81  29  80 177 184 238 258  50 233  25  75 205  35  80 177  50 233\n",
      " 136 247 181  32  46  24 151 204 215  84 221 139  80 221 181 231 245 189\n",
      " 256 156  61 245 257  24 124  78  70  38  26  97 170 138 196  35  21 217\n",
      " 122 138  22 258 223 133  70  43 256  70 207 254 257 196  35  21 194 227\n",
      " 175 100 131 138  22 139  63  40 138 115 180 208 115 181 174  25  92 126\n",
      " 138 258 113 252  86 219 115 181  92 126 220 138  24 170 138  83 148  26\n",
      " 139 158 169 220 138 258  80 221 158  31  23 191 188 240 107  30 159 145\n",
      " 198  93 181 166 120 157  45 256   7   5   6  10 112  13 144   7  12 135\n",
      " 258 209  78  91 214 102  50 107 170 138  26 145  99 243 181 157  24 129\n",
      " 160 132 193   7   5   6  12 112  11 144   7  10 135 127 241 258 152 161\n",
      " 214  86 102   1  15  17  14   2 181 190 199  74 196 258 170 138  26  69\n",
      " 176  39 200  25  33 166 120  80  27 157 167 257  24  40 156  61 192  35\n",
      "  36 181  85 155 134 197 218  68  96  55 258 158 101 121 164  51  34 258\n",
      " 153 112 109 145 101 142  69 178  24 170 138  32 149 182 145 157  54  29\n",
      " 110  54 206 123 181 149  53  44 250 186  90 216 165 246  24  29  80 177\n",
      " 184 154 258 170 138  80 230 162  59 236  28 162 232 258  80 221  80 229\n",
      "  85 242  56  41 239  70 236 162 232 181 136 146 116 123 258 145  95 107\n",
      " 181 249 188  82  23 170 104  29 105 228 258  60 128  87 248 203 143 255\n",
      " 181 104 259  88 150 108 131 104  76 143  85 181 105 228 259 157 125  73\n",
      " 105 228  24  71  25  33  80 116 172 118 139  65  62  64 177 181 137 140\n",
      " 106  58 259  65 133 139  70 210  23  48 168 249 188  82 181 255  80 258\n",
      "  62 133  57 139 236 112 235 181 111  67  24 170 138 145  32  33  86 171\n",
      "  66 138 259 170  66  25  76 170  66  40 258 116 173  28 225  57 258  72\n",
      " 212 139 222 251 195 181 187  98 220 138  24  79  80 177 258 170 138 211\n",
      " 185  72 224 258 143 255  42 114  72 237   3   7   4  13 201 258  49  85\n",
      " 220 138  34 154 147 138  23 244 138 141  24   7   5   6  10 112  13 144\n",
      "   7  12 135 258 209  78 214  86 102  94 107 170 138  89  79 163  59 157]\n",
      "[[0. 0. 0. ... 0. 0. 0.]\n",
      " [0. 0. 0. ... 0. 0. 0.]\n",
      " [0. 0. 0. ... 0. 0. 0.]\n",
      " ...\n",
      " [0. 0. 0. ... 0. 0. 0.]\n",
      " [0. 0. 0. ... 0. 0. 0.]\n",
      " [0. 0. 0. ... 0. 0. 0.]]\n"
     ]
    },
    {
     "name": "stderr",
     "output_type": "stream",
     "text": [
      "/Library/Frameworks/Python.framework/Versions/3.6/lib/python3.6/site-packages/sklearn/preprocessing/_encoders.py:368: FutureWarning: The handling of integer data will change in version 0.22. Currently, the categories are determined based on the range [0, max(values)], while in the future they will be determined based on the unique values.\n",
      "If you want the future behaviour and silence this warning, you can specify \"categories='auto'\".\n",
      "In case you used a LabelEncoder before this OneHotEncoder to convert the categories to integers, then you can now use the OneHotEncoder directly.\n",
      "  warnings.warn(msg, FutureWarning)\n"
     ]
    }
   ],
   "source": [
    "from numpy import array\n",
    "from numpy import argmax\n",
    "from sklearn.preprocessing import LabelEncoder\n",
    "from sklearn.preprocessing import OneHotEncoder\n",
    "# define example\n",
    "# data = ['cold', 'cold', 'warm', 'cold', 'hot', 'hot', 'warm', 'cold', 'warm', 'hot']\n",
    "# values = array(data)\n",
    "# print(values)\n",
    "# integer encode\n",
    "label_encoder = LabelEncoder()\n",
    "integer_encoded = label_encoder.fit_transform(char_list)\n",
    "print(integer_encoded)\n",
    "# binary encode\n",
    "onehot_encoder = OneHotEncoder(sparse=False)\n",
    "integer_encoded = integer_encoded.reshape(len(integer_encoded), 1)\n",
    "onehot_encoded = onehot_encoder.fit_transform(integer_encoded)\n",
    "print(onehot_encoded)\n",
    "# invert first example\n",
    "# inverted = label_encoder.inverse_transform([argmax(onehot_encoded[0, :])])"
   ]
  },
  {
   "cell_type": "code",
   "execution_count": 7,
   "metadata": {
    "collapsed": true
   },
   "outputs": [
    {
     "name": "stdout",
     "output_type": "stream",
     "text": [
      "[[170]\n",
      " [138]\n",
      " [256]\n",
      " [ 16]]###[18]###[[ 19]\n",
      " [ 20]\n",
      " [257]\n",
      " [139]]\n",
      "\n",
      "[[138]\n",
      " [256]\n",
      " [ 16]\n",
      " [ 18]]###[19]###[[ 20]\n",
      " [257]\n",
      " [139]\n",
      " [ 87]]\n",
      "\n",
      "[[256]\n",
      " [ 16]\n",
      " [ 18]\n",
      " [ 19]]###[20]###[[257]\n",
      " [139]\n",
      " [ 87]\n",
      " [248]]\n",
      "\n"
     ]
    }
   ],
   "source": [
    "left_context, right_context, target = get_window_sample(integer_encoded, 4)\n",
    "\n",
    "for item_left, item_right, item in zip(left_context[:3], right_context[:3], target[:3]):\n",
    "    print(str(item_left) + \"###\" + str(item) + \"###\" + str(item_right) + '\\n')"
   ]
  },
  {
   "cell_type": "code",
   "execution_count": 8,
   "metadata": {},
   "outputs": [],
   "source": [
    "def CBOW(self):\n",
    "    self.context = tf.placeholder(dtype=tf.float32, shape=[None, windows_size, vocab_size])\n",
    "    self.left = tf.placeholder(dtype=tf.float32, shape=[None, windows_size, vocab_size])\n",
    "    self.target = tf.placeholder(tf.float32, shape=[None, vocab_size])\n",
    "\n",
    "    w_1 = tf.Variable(tf.random_uniform([vocab_size, embedding_dim], stddev=0.1))\n",
    "    w_2 = tf.Variable(tf.random_uniform([embedding_dim, vocab_size], stddev=0.1))\n",
    "                      \n",
    "    left_encode = tf.matmul(left, w1)\n",
    "    left_sum = tf.reduce_sum(left_encode, axis=1)\n",
    "                      \n",
    "    right_encode = tf.matmul(right, w1)\n",
    "    right_sum = tf.reduce_sum(right_encode, axis=1)\n",
    "    \n",
    "    context_encode = tf.concat([left_encode, right_encode], 0)\n",
    "    context_sum = tf.reduce_sum(context_encode, axis=1)\n",
    "    \n",
    "    outputs = tf.matmul(context_sum, w_2)\n",
    "    loss = tf.nn.softmax_cross_entropy_with_logits_v2(logits=outputs, labels=target)\n",
    "    loss = tf.reduce_mean(loss)\n",
    "    \n",
    "    self.trainer = tf.train.AdamOptimizer(learning_rate=1e-3).minimize(loss)\n"
   ]
  },
  {
   "cell_type": "code",
   "execution_count": 17,
   "metadata": {},
   "outputs": [
    {
     "name": "stdout",
     "output_type": "stream",
     "text": [
      "<class 'list'>\n"
     ]
    }
   ],
   "source": [
    "import tensorflow as tf\n",
    "import numpy as np\n",
    "\n",
    "embedding_dim = 50\n",
    "windows_size = 5\n",
    "vocab_size = char_num\n",
    "\n",
    "left_context, right_context, target = get_window_sample(integer_encoded, 4)\n",
    "\n",
    "print(type(left_context))\n",
    "left_context = np.asarray(left_context)\n",
    "# print(left_context[0:3])\n",
    "# print(type(np.asarray(left_context)))\n",
    "# print(left_context[0:3])"
   ]
  },
  {
   "cell_type": "code",
   "execution_count": 20,
   "metadata": {},
   "outputs": [],
   "source": [
    "# Dataset\n",
    "data_loader = \\\n",
    "tf.data.Dataset.from_tensor_slices(\n",
    "   {'left':left_context, 'right':right_context, 'target':target})  \n",
    "\n",
    "# data_loader = \\\n",
    "# tf.data.Dataset.from_tensor_slices(\n",
    "#     {'left':[[1],[2],[3]], 'right':[[4],[5],[6]], 'target':[[1],[2],[3]]})   \n"
   ]
  },
  {
   "cell_type": "code",
   "execution_count": null,
   "metadata": {},
   "outputs": [],
   "source": [
    "#config = tf.ConfigProto()\n",
    "iterator = data_loader.make_one_shot_iterator()\n",
    "one_element = iterator.get_next()\n",
    "\n",
    "sess = tf.Session()\n",
    "model = CBOW()\n",
    "\n",
    "while True:\n",
    "    try:\n",
    "        sample_batched = sess.run(one_element)\n",
    "        left = sample_batched['left']\n",
    "        right = sample_batched['right']\n",
    "        target = sample_batched['target']\n",
    "        \n",
    "        outputs = sess.run(model.trainer,\n",
    "                           feed_dict = {model.left:left,\n",
    "                                        model.right:right,\n",
    "                                        model.target:target})\n",
    "    except tf.errors.OutOfRangeError:\n",
    "        break"
   ]
  }
 ],
 "metadata": {
  "kernelspec": {
   "display_name": "Python 3",
   "language": "python",
   "name": "python3"
  },
  "language_info": {
   "codemirror_mode": {
    "name": "ipython",
    "version": 3
   },
   "file_extension": ".py",
   "mimetype": "text/x-python",
   "name": "python",
   "nbconvert_exporter": "python",
   "pygments_lexer": "ipython3",
   "version": "3.6.3"
  }
 },
 "nbformat": 4,
 "nbformat_minor": 2
}
